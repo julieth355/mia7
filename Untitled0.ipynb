{
  "nbformat": 4,
  "nbformat_minor": 0,
  "metadata": {
    "colab": {
      "name": "Untitled0.ipynb",
      "provenance": [],
      "include_colab_link": true
    },
    "kernelspec": {
      "name": "python3",
      "display_name": "Python 3"
    }
  },
  "cells": [
    {
      "cell_type": "markdown",
      "metadata": {
        "id": "view-in-github",
        "colab_type": "text"
      },
      "source": [
        "<a href=\"https://colab.research.google.com/github/julieth355/mia7/blob/master/Untitled0.ipynb\" target=\"_parent\"><img src=\"https://colab.research.google.com/assets/colab-badge.svg\" alt=\"Open In Colab\"/></a>"
      ]
    },
    {
      "cell_type": "code",
      "metadata": {
        "id": "v7Tla-_VhZvt",
        "colab_type": "code",
        "colab": {}
      },
      "source": [
        ""
      ],
      "execution_count": 0,
      "outputs": []
    },
    {
      "cell_type": "markdown",
      "metadata": {
        "id": "RZ3Zd1RIhiAe",
        "colab_type": "text"
      },
      "source": [
        "# ejercicios unad algoritmos "
      ]
    },
    {
      "cell_type": "markdown",
      "metadata": {
        "id": "ZV15eIdficKP",
        "colab_type": "text"
      },
      "source": [
        "## 1.\tPlanteamiento del problema a resolver\n",
        "Se desea realizar el análisis de  un problema  que permita calcular el Área de un Cilindro."
      ]
    },
    {
      "cell_type": "code",
      "metadata": {
        "id": "G2C6O3TXhqud",
        "colab_type": "code",
        "colab": {
          "base_uri": "https://localhost:8080/",
          "height": 34
        },
        "outputId": "9c5f13f8-0ea1-44a7-d162-146a49ad057f"
      },
      "source": [
        "import math \n",
        "math.pi \n",
        "altura = 23\n",
        "radio = 25\n",
        "area_bases = 2*(math.pi*(radio**2))\n",
        "area_lateral = 2*(math.pi*radio*altura) \n",
        "area_total = area_bases + area_lateral \n",
        "print(area_total)\n"
      ],
      "execution_count": 3,
      "outputs": [
        {
          "output_type": "stream",
          "text": [
            "7539.822368615503\n"
          ],
          "name": "stdout"
        }
      ]
    },
    {
      "cell_type": "code",
      "metadata": {
        "id": "KQv8H4slpgRy",
        "colab_type": "code",
        "colab": {}
      },
      "source": [
        "def areaCilindro(altura,radio):\n",
        "  area_bases = 2*(math.pi*(radio**2)) \n",
        "  area_lateral= 2*(math.pi*radio*altura)\n",
        "  area_total= area_bases + area_lateral\n",
        "  return area_total\n",
        "  "
      ],
      "execution_count": 0,
      "outputs": []
    },
    {
      "cell_type": "code",
      "metadata": {
        "id": "6oafpk5ArnVB",
        "colab_type": "code",
        "colab": {
          "base_uri": "https://localhost:8080/",
          "height": 34
        },
        "outputId": "d55bf0e0-a101-4984-b859-7d797e998d64"
      },
      "source": [
        "areaCilindro(123,5)"
      ],
      "execution_count": 5,
      "outputs": [
        {
          "output_type": "execute_result",
          "data": {
            "text/plain": [
              "4021.238596594935"
            ]
          },
          "metadata": {
            "tags": []
          },
          "execution_count": 5
        }
      ]
    },
    {
      "cell_type": "markdown",
      "metadata": {
        "id": "LwmfeYZBtvhl",
        "colab_type": "text"
      },
      "source": [
        " ## 2.\tPlanteamiento del problema a resolver: \n",
        "\n",
        "Realizar el análisis  para solucionar el problema  que permita ingresar un valor expresado en centímetros, y entregar la respuesta tanto en yardas como en pies."
      ]
    },
    {
      "cell_type": "code",
      "metadata": {
        "id": "5cNt7Snat_41",
        "colab_type": "code",
        "colab": {
          "base_uri": "https://localhost:8080/",
          "height": 34
        },
        "outputId": "7192f9ca-c57f-4d5b-d2b0-6038e4cc30e3"
      },
      "source": [
        "centimetros = 1\n",
        "cons_yardas = 0.0109361\n",
        "cons_pies = 0.0328084\n",
        "centimetros_yardas = centimetros*cons_yardas\n",
        "centimetros_pies = centimetros*cons_pies\n",
        "print(centimetros_yardas,centimetros_pies)"
      ],
      "execution_count": 9,
      "outputs": [
        {
          "output_type": "stream",
          "text": [
            "0.0109361 0.0328084\n"
          ],
          "name": "stdout"
        }
      ]
    },
    {
      "cell_type": "code",
      "metadata": {
        "id": "TdMFCjBbxd7w",
        "colab_type": "code",
        "colab": {}
      },
      "source": [
        "def centimetrosYardas(centimetros):\n",
        "  cons_yardas = 0.0109361\n",
        "  return centimetros*cons_yardas\n",
        "def centimetrosPies(centimetros):\n",
        "  cons_pies = 0.0328084\n",
        "  return centimetros*cons_pies\n",
        "  \n",
        "\n",
        "\n"
      ],
      "execution_count": 0,
      "outputs": []
    },
    {
      "cell_type": "code",
      "metadata": {
        "id": "z4dhC_VMzcLr",
        "colab_type": "code",
        "colab": {
          "base_uri": "https://localhost:8080/",
          "height": 34
        },
        "outputId": "37b43d4e-2eb8-429f-b70e-42d6ac618881"
      },
      "source": [
        "centimetrosYardas(1)"
      ],
      "execution_count": 11,
      "outputs": [
        {
          "output_type": "execute_result",
          "data": {
            "text/plain": [
              "0.0109361"
            ]
          },
          "metadata": {
            "tags": []
          },
          "execution_count": 11
        }
      ]
    },
    {
      "cell_type": "code",
      "metadata": {
        "id": "9A-kobipzqKt",
        "colab_type": "code",
        "colab": {
          "base_uri": "https://localhost:8080/",
          "height": 34
        },
        "outputId": "4d7575e2-f6ec-45a6-b6e7-57c4549267f9"
      },
      "source": [
        "centimetrosPies(1)"
      ],
      "execution_count": 13,
      "outputs": [
        {
          "output_type": "execute_result",
          "data": {
            "text/plain": [
              "1.64042"
            ]
          },
          "metadata": {
            "tags": []
          },
          "execution_count": 13
        }
      ]
    }
  ]
}