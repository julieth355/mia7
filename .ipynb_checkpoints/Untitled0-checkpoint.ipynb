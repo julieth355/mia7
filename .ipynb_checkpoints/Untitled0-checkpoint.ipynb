{
 "cells": [
  {
   "cell_type": "markdown",
   "metadata": {
    "colab_type": "text",
    "id": "view-in-github"
   },
   "source": [
    "<a href=\"https://colab.research.google.com/github/julieth355/mia7/blob/master/Untitled0.ipynb\" target=\"_parent\"><img src=\"https://colab.research.google.com/assets/colab-badge.svg\" alt=\"Open In Colab\"/></a>"
   ]
  },
  {
   "cell_type": "markdown",
   "metadata": {
    "colab_type": "text",
    "id": "RZ3Zd1RIhiAe"
   },
   "source": [
    "# Ejercicios unad algoritmos "
   ]
  },
  {
   "cell_type": "markdown",
   "metadata": {
    "colab_type": "text",
    "id": "ZV15eIdficKP"
   },
   "source": [
    "## 1.\tPlanteamiento del problema a resolver\n",
    "Se desea realizar el análisis de  un problema  que permita calcular el Área de un Cilindro."
   ]
  },
  {
   "cell_type": "code",
   "execution_count": 2,
   "metadata": {
    "colab": {
     "base_uri": "https://localhost:8080/",
     "height": 34
    },
    "colab_type": "code",
    "id": "G2C6O3TXhqud",
    "outputId": "9c5f13f8-0ea1-44a7-d162-146a49ad057f"
   },
   "outputs": [
    {
     "data": {
      "text/plain": [
       "3.141592653589793"
      ]
     },
     "execution_count": 2,
     "metadata": {},
     "output_type": "execute_result"
    }
   ],
   "source": [
    "import math \n",
    "math.pi "
   ]
  },
  {
   "cell_type": "code",
   "execution_count": 8,
   "metadata": {
    "colab": {},
    "colab_type": "code",
    "id": "KQv8H4slpgRy"
   },
   "outputs": [],
   "source": [
    "def areaCilindro(altura,radio):\n",
    "  area_bases = 2*(math.pi*(radio**2)) \n",
    "  area_lateral= 2*(math.pi*radio*altura)\n",
    "  area_total= area_bases + area_lateral\n",
    "  return f'{area_total} cm^2'\n",
    "  "
   ]
  },
  {
   "cell_type": "code",
   "execution_count": 9,
   "metadata": {
    "colab": {
     "base_uri": "https://localhost:8080/",
     "height": 34
    },
    "colab_type": "code",
    "id": "6oafpk5ArnVB",
    "outputId": "d55bf0e0-a101-4984-b859-7d797e998d64"
   },
   "outputs": [
    {
     "data": {
      "text/plain": [
       "'4021.238596594935 cm^2'"
      ]
     },
     "execution_count": 9,
     "metadata": {},
     "output_type": "execute_result"
    }
   ],
   "source": [
    "areaCilindro(123,5)"
   ]
  },
  {
   "cell_type": "markdown",
   "metadata": {
    "colab_type": "text",
    "id": "LwmfeYZBtvhl"
   },
   "source": [
    " ## 2.\tPlanteamiento del problema a resolver: \n",
    "\n",
    "Realizar el análisis  para solucionar el problema  que permita ingresar un valor expresado en centímetros, y entregar la respuesta tanto en yardas como en pies."
   ]
  },
  {
   "cell_type": "code",
   "execution_count": 10,
   "metadata": {
    "colab": {},
    "colab_type": "code",
    "id": "TdMFCjBbxd7w"
   },
   "outputs": [],
   "source": [
    "def centimetrosYardas(centimetros):\n",
    "  cons_yardas = 0.0109361\n",
    "  cent_a_yardas = centimetros*cons_yardas\n",
    "  return f'{cent_a_yardas} yardas'\n",
    "\n",
    "def centimetrosPies(centimetros):\n",
    "  cons_pies = 0.0328084\n",
    "  cent_a_pies = centimetros*cons_pies   \n",
    "  return f'{cent_a_pies} pies'"
   ]
  },
  {
   "cell_type": "code",
   "execution_count": 11,
   "metadata": {
    "colab": {
     "base_uri": "https://localhost:8080/",
     "height": 34
    },
    "colab_type": "code",
    "id": "z4dhC_VMzcLr",
    "outputId": "37b43d4e-2eb8-429f-b70e-42d6ac618881"
   },
   "outputs": [
    {
     "data": {
      "text/plain": [
       "'0.0109361 yardas'"
      ]
     },
     "execution_count": 11,
     "metadata": {},
     "output_type": "execute_result"
    }
   ],
   "source": [
    "centimetrosYardas(1)"
   ]
  },
  {
   "cell_type": "code",
   "execution_count": 12,
   "metadata": {
    "colab": {
     "base_uri": "https://localhost:8080/",
     "height": 34
    },
    "colab_type": "code",
    "id": "9A-kobipzqKt",
    "outputId": "4d7575e2-f6ec-45a6-b6e7-57c4549267f9"
   },
   "outputs": [
    {
     "data": {
      "text/plain": [
       "'0.0328084 pies'"
      ]
     },
     "execution_count": 12,
     "metadata": {},
     "output_type": "execute_result"
    }
   ],
   "source": [
    "centimetrosPies(1)"
   ]
  },
  {
   "cell_type": "markdown",
   "metadata": {},
   "source": [
    "## 3.\tPlanteamiento del problema a resolver: \n",
    "Uno de sus amigos ha “montado” una fábrica de confecciones de ropa, por lo pronto está en producción de Pantalones, Camisas y bufandas y cuneta con 2 trabajadores, los cuales deben en un día tener producción de los 3 artículos y el pago que se hace al final del día es por cantidad realizada, así: \n",
    "*\tPantalón = $5000\n",
    "\n",
    "*   Camisas = $2500    \n",
    " \n",
    "*\tBufandas = $800\n",
    "\n",
    "Su amigo le ha el análisis para la solución del problema que al final del día pida el ingreso de cada una de las cantidades producidas, para determinar el valor que debe pagarle a cada empleado.\n",
    "\n"
   ]
  },
  {
   "cell_type": "code",
   "execution_count": 117,
   "metadata": {},
   "outputs": [],
   "source": [
    "# Tp : tiempo confección pantalón\n",
    "# Tb : tiempo confección bufanda\n",
    "# Tc : tiempo confección camisa\n",
    "# Tt : Tiempo destinado al trabajador\n",
    "def pagarTiempo(tp, tb, tc, tt):\n",
    "    tiempo_acumulado = 0\n",
    "    total_a_pagar = 0\n",
    "    pantalon = 5000\n",
    "    camisa = 2500\n",
    "    bufanda = 800\n",
    "    while (tt > tiempo_acumulado):\n",
    "        tiempo_acumulado += tp\n",
    "        total_a_pagar += pantalon\n",
    "        tiempo_acumulado += tc\n",
    "        total_a_pagar += camisa\n",
    "        tiempo_acumulado += tb\n",
    "        total_a_pagar += bufanda\n",
    "    return f'total a pagar: ${total_a_pagar}, tiempo acumulado: {tiempo_acumulado} minutos'    "
   ]
  },
  {
   "cell_type": "code",
   "execution_count": 118,
   "metadata": {},
   "outputs": [
    {
     "data": {
      "text/plain": [
       "'total a pagar: $107900, tiempo acumulado: 741 minutos'"
      ]
     },
     "execution_count": 118,
     "metadata": {},
     "output_type": "execute_result"
    }
   ],
   "source": [
    "# digite los tiempos en minutos\n",
    "pagarTiempo(12, 15, 30, 720)"
   ]
  },
  {
   "cell_type": "markdown",
   "metadata": {},
   "source": [
    "## 4.\tPlanteamiento del problema a resolver:\n",
    "Usted va a adquirir un disco duro para su computador y el vendedor le ofrece tamaños de disco duro expresados en Terabit. Para lo cual usted realiza análisis del problema que le permite convertir ese valor en Megabyte y en Gigabyte."
   ]
  },
  {
   "cell_type": "code",
   "execution_count": 24,
   "metadata": {},
   "outputs": [],
   "source": [
    "def teraAGiga(teras):\n",
    "  cons_gigas = 1000\n",
    "  teras_a_gigas = teras*cons_gigas\n",
    "  return teras_a_gigas\n",
    "\n",
    "def teraAMega(teras):\n",
    "  cons_megas = 1000\n",
    "  tera_a_mega = teraAGiga(teras)*cons_megas\n",
    "  return f'{tera_a_mega} megas'"
   ]
  },
  {
   "cell_type": "code",
   "execution_count": 25,
   "metadata": {},
   "outputs": [
    {
     "data": {
      "text/plain": [
       "5000"
      ]
     },
     "execution_count": 25,
     "metadata": {},
     "output_type": "execute_result"
    }
   ],
   "source": [
    "teraAGiga(5)"
   ]
  },
  {
   "cell_type": "code",
   "execution_count": 26,
   "metadata": {},
   "outputs": [
    {
     "data": {
      "text/plain": [
       "'5000000 megas'"
      ]
     },
     "execution_count": 26,
     "metadata": {},
     "output_type": "execute_result"
    }
   ],
   "source": [
    "teraAMega(5)"
   ]
  },
  {
   "cell_type": "markdown",
   "metadata": {},
   "source": [
    "## 5.\tPlanteamiento del problema a resolver:\n",
    "Le han solicitado que analice el problema que permita determinar si una persona ya puede tener su cedula de ciudanía o si aún no tiene la edad necesaria."
   ]
  },
  {
   "cell_type": "code",
   "execution_count": 27,
   "metadata": {},
   "outputs": [],
   "source": [
    "def mayorDeEdad(edad,reglamentaciónMayoriaDeEdad):\n",
    "    if (edad>=reglamentaciónMayoriaDeEdad):\n",
    "        return \"Ya es permitido adquirir su cédula de ciudadanía\"\n",
    "    else:\n",
    "        return 'aun no tiene la edad suficiente para adquirir su cédula de ciudadanía'"
   ]
  },
  {
   "cell_type": "code",
   "execution_count": 29,
   "metadata": {},
   "outputs": [
    {
     "data": {
      "text/plain": [
       "'Ya es permitido adquirir su cédula de ciudadanía'"
      ]
     },
     "execution_count": 29,
     "metadata": {},
     "output_type": "execute_result"
    }
   ],
   "source": [
    "mayorDeEdad(28,21)"
   ]
  },
  {
   "cell_type": "code",
   "execution_count": 30,
   "metadata": {},
   "outputs": [
    {
     "data": {
      "text/plain": [
       "'aun no tiene la edad suficiente para adquirir su cédula de ciudadanía'"
      ]
     },
     "execution_count": 30,
     "metadata": {},
     "output_type": "execute_result"
    }
   ],
   "source": [
    "mayorDeEdad(18,21)"
   ]
  },
  {
   "cell_type": "markdown",
   "metadata": {},
   "source": [
    "## 6.\tPlanteamiento del problema a resolver:\n",
    "Se debe analizar el problema para determinar si una persona es apta para prestar el servicio militar, bajo las condiciones: debe ser de nacionalidad colombiana, mayor de edad, de género masculino, soltero y además debe tener hermanos.\n",
    "\n"
   ]
  },
  {
   "cell_type": "code",
   "execution_count": 40,
   "metadata": {},
   "outputs": [],
   "source": [
    "def aptoParaServicioMilitar(nacionalidad, edad, genero, estado_civil, cant_hermanos):\n",
    "    if (nacionalidad == \"colombiana\" and edad >= 18 and genero == \"masculino\" and estado_civil == \"soltero\" and cant_hermanos > 0 ):\n",
    "        return \"usted ES apto para prestar servicio militar\"\n",
    "    else: \n",
    "        return \"usted NO ES apto para prestar servicio militar\""
   ]
  },
  {
   "cell_type": "code",
   "execution_count": 41,
   "metadata": {},
   "outputs": [
    {
     "data": {
      "text/plain": [
       "'usted ES apto para prestar servicio militar'"
      ]
     },
     "execution_count": 41,
     "metadata": {},
     "output_type": "execute_result"
    }
   ],
   "source": [
    "aptoParaServicioMilitar(\"colombiana\",18,\"masculino\",\"soltero\",1)"
   ]
  },
  {
   "cell_type": "code",
   "execution_count": 42,
   "metadata": {},
   "outputs": [
    {
     "data": {
      "text/plain": [
       "'usted NO ES apto para prestar servicio militar'"
      ]
     },
     "execution_count": 42,
     "metadata": {},
     "output_type": "execute_result"
    }
   ],
   "source": [
    "aptoParaServicioMilitar(\"colombiana\",18,\"masculino\",\"soltero\",0)"
   ]
  },
  {
   "cell_type": "markdown",
   "metadata": {},
   "source": [
    "## 7.\tPlanteamiento del problema a resolver:\n",
    "Se les han pedido que realice el análisis de un problema le dé una proyección positiva de su futuro inmediato de acuerdo con su signo zodiacal."
   ]
  },
  {
   "cell_type": "code",
   "execution_count": 47,
   "metadata": {},
   "outputs": [],
   "source": [
    "def predicciónSignoZodiacal(signo):\n",
    "    if signo == \"piscis\":\n",
    "        return \"suerte\"\n",
    "    elif signo == \"tauro\":\n",
    "        return \"amor\"\n",
    "    elif signo == \"capricornio\":\n",
    "        return \"venganza\"\n",
    "    elif signo == \"acuario\":\n",
    "        return \"muerte\"\n",
    "    elif signo == \"cáncer\":\n",
    "        return \"deseperación\"\n",
    "    elif signo == \"aries\":\n",
    "        return \"conejito\"\n",
    "    elif signo == \"geminis\":\n",
    "        return \"no crea en horoscopos, es basura pura\"\n",
    "    elif signo == \"sagitario\":\n",
    "        return \"conejita\"\n",
    "    elif signo == \"leo\":\n",
    "        return \"suerte\"\n",
    "    elif signo == \"escorpio\":\n",
    "        return \"suerte\"\n",
    "    elif signo == \"Virgo\":\n",
    "        return \"suerte\"\n",
    "    elif signo == \"libra\":\n",
    "        return \"suerte\"\n",
    "    else:\n",
    "        return \"digitación errada\""
   ]
  },
  {
   "cell_type": "code",
   "execution_count": 48,
   "metadata": {},
   "outputs": [
    {
     "data": {
      "text/plain": [
       "'no crea en horoscopos, es basura pura'"
      ]
     },
     "execution_count": 48,
     "metadata": {},
     "output_type": "execute_result"
    }
   ],
   "source": [
    "predicciónSignoZodiacal(\"geminis\")"
   ]
  },
  {
   "cell_type": "markdown",
   "metadata": {},
   "source": [
    "## 8.\tPlanteamiento del problema a resolver:\n",
    "Se ha solicitado que analice  un problema  que permita determinar el promedio de las edades de 50 personas, solo si estas son mayores de edad, en caso de no ser mayor de edad, se debe indicar cuantos no cumplen con esa condición, además del promedio de las edades de todo el grupo."
   ]
  },
  {
   "cell_type": "code",
   "execution_count": 54,
   "metadata": {},
   "outputs": [],
   "source": [
    "import numpy as np\n",
    "def promedioDeEdadesYNoDeMenoresDeEdad(listaDeEdades):\n",
    "    cant_menores_edad = 0\n",
    "    promedio_edades = np.sum(listaDeEdades)/len(listaDeEdades)\n",
    "    for i in listaDeEdades:\n",
    "        if i < 18:\n",
    "            cant_menores_edad += 1\n",
    "    return f\"promedio: {promedio_edades}, cantidad de menores: {cant_menores_edad}\"  "
   ]
  },
  {
   "cell_type": "code",
   "execution_count": 55,
   "metadata": {},
   "outputs": [
    {
     "data": {
      "text/plain": [
       "'promedio: 42.7, cantidad de menores: 5'"
      ]
     },
     "execution_count": 55,
     "metadata": {},
     "output_type": "execute_result"
    }
   ],
   "source": [
    "promedioDeEdadesYNoDeMenoresDeEdad([18,13,85,45,32,65,45,35,64,25,18,13,85,45,32,65,45,35,64,25,18,13,85,45,32,65,45,35,64,25,18,13,85,45,32,65,45,35,64,25,18,13,85,45,32,65,45,35,64,25])"
   ]
  },
  {
   "cell_type": "markdown",
   "metadata": {},
   "source": [
    "## 9.\tPlanteamiento del problema a resolver: \n",
    "Se debe desarrollar el análisis de un problema que permita realizar una encuesta a N personas, de los cuales se pretende identificar lo siguiente: \n",
    "    \n",
    "   * Estrato social al que pertenece (1 a 6), no se deben permitir otro\n",
    "   * Salario mensual, no se aceptan salarios negativos\n",
    "   * Tipo de trabajo (1- sin trabajo, 2- independiente, 3- empleado público, 4 – empleo privado), no se admite otra opción\n",
    "\n",
    "El programa garantiza que los datos ingresados sean correctos y al final debe reportar lo siguiente:\n",
    "1.\tCantidad de persona encuestadas\n",
    "2.\tCantidad de persona por estrato \n",
    "3.\tPromedio del salario de las personas encuestadas\n",
    "4.\tCuál es el tipo de trabajo predominante.\n"
   ]
  },
  {
   "cell_type": "code",
   "execution_count": 106,
   "metadata": {},
   "outputs": [],
   "source": [
    "base_de_datos = [\n",
    "    \n",
    "]\n",
    "def alimentarBase(estrato_social, salario_mensual, tipo_de_trabajo):\n",
    "    global base_de_datos\n",
    "    base_de_datos.append({\"estrato_social\":estrato_social,\"salario_mensual\":salario_mensual,\"tipo_de_trabajo\":tipo_de_trabajo})\n",
    "    return base_de_datos\n",
    "def sondeoBaseDeDatos(base_de_datos):\n",
    "    personas_encuestadas = len(base_de_datos)\n",
    "    index = 0\n",
    "    promedio_salarios = 0\n",
    "    while (personas_encuestadas>index):\n",
    "        promedio_salarios += base_de_datos[index][\"salario_mensual\"]\n",
    "        index += 1\n",
    "    promedio_salarios = promedio_salarios/personas_encuestadas\n",
    "    estrato_1 = 0\n",
    "    estrato_2 = 0\n",
    "    estrato_3 = 0\n",
    "    estrato_4 = 0\n",
    "    estrato_5 = 0\n",
    "    estrato_6 = 0\n",
    "    estratos = [estrato_1,estrato_2,estrato_3,estrato_4,estrato_5,estrato_6]\n",
    "    sin_trabajo = 0\n",
    "    independiente = 0\n",
    "    empleado_publico = 0\n",
    "    empleado_privado = 0\n",
    "    var_empleos = [sin_trabajo,independiente,empleado_publico,empleado_privado]\n",
    "    empleos = [\"sin trabajo\",\"independiente\",\"empleado público\",\"empleo privado\"]\n",
    "    for i in range(6):\n",
    "        for j in base_de_datos:\n",
    "            \n",
    "            if j[\"estrato_social\"] == i+1:\n",
    "              \n",
    "                estratos[i] += 1\n",
    "                \n",
    "    for f in range(4):    \n",
    "        for l in base_de_datos:\n",
    "\n",
    "            if l[\"tipo_de_trabajo\"] == empleos[f]:\n",
    "                var_empleos[f] += 1\n",
    "    \n",
    "    max_var_empleos = max(var_empleos)\n",
    "    \n",
    "    trabajo_recurrente = var_empleos.index(max_var_empleos)\n",
    "    \n",
    "    trabajo_recurrente = empleos[trabajo_recurrente]\n",
    "    print(f\"trabajo recurrente: {trabajo_recurrente}\")\n",
    "    print(f\"No de personas Estrat.1 : {estratos[0]}\")\n",
    "    print(f\"No de personas Estrat.2: {estratos[1]}\")\n",
    "    print(f\"No de personas Estrat.3: {estratos[2]}\")\n",
    "    print(f\"No de personas Estrat.4: {estratos[3]}\")\n",
    "    print(f\"No de personas Estrat.5: {estratos[4]}\")\n",
    "    print(f\"No de personas Estrat.6: {estratos[5]}\")\n",
    "    print(f\"cantidad de personas encuestadas: {personas_encuestadas}\")\n",
    "    \n",
    "    return f\"promedio salarios: {promedio_salarios}\"                \n"
   ]
  },
  {
   "cell_type": "code",
   "execution_count": 107,
   "metadata": {},
   "outputs": [
    {
     "data": {
      "text/plain": [
       "[{'estrato_social': 6,\n",
       "  'salario_mensual': 12000000,\n",
       "  'tipo_de_trabajo': 'independiente'},\n",
       " {'estrato_social': 1,\n",
       "  'salario_mensual': 800000,\n",
       "  'tipo_de_trabajo': 'empleo privado'},\n",
       " {'estrato_social': 3,\n",
       "  'salario_mensual': 7000000,\n",
       "  'tipo_de_trabajo': 'empleo privado'},\n",
       " {'estrato_social': 4,\n",
       "  'salario_mensual': 9000000,\n",
       "  'tipo_de_trabajo': 'empleado público'},\n",
       " {'estrato_social': 5,\n",
       "  'salario_mensual': 15000000,\n",
       "  'tipo_de_trabajo': 'empleo privado'},\n",
       " {'estrato_social': 2,\n",
       "  'salario_mensual': 2000000,\n",
       "  'tipo_de_trabajo': 'empleo privado'},\n",
       " {'estrato_social': 1, 'salario_mensual': 0, 'tipo_de_trabajo': 'sin trabajo'},\n",
       " {'estrato_social': 2,\n",
       "  'salario_mensual': 2000000,\n",
       "  'tipo_de_trabajo': 'empleo privado'},\n",
       " {'estrato_social': 2,\n",
       "  'salario_mensual': 2000000,\n",
       "  'tipo_de_trabajo': 'empleo privado'},\n",
       " {'estrato_social': 2,\n",
       "  'salario_mensual': 2000000,\n",
       "  'tipo_de_trabajo': 'empleo privado'},\n",
       " {'estrato_social': 2,\n",
       "  'salario_mensual': 2000000,\n",
       "  'tipo_de_trabajo': 'empleo privado'},\n",
       " {'estrato_social': 1, 'salario_mensual': 0, 'tipo_de_trabajo': 'sin trabajo'}]"
      ]
     },
     "execution_count": 107,
     "metadata": {},
     "output_type": "execute_result"
    }
   ],
   "source": [
    "#aqui alimentamos nuestra base de datos\n",
    "alimentarBase(6,12000000,\"independiente\")\n",
    "alimentarBase(1,800000,\"empleo privado\")\n",
    "alimentarBase(3,7000000,\"empleo privado\")\n",
    "alimentarBase(4,9000000,\"empleado público\")\n",
    "alimentarBase(5,15000000,\"empleo privado\")\n",
    "alimentarBase(2,2000000,\"empleo privado\")\n",
    "alimentarBase(1,0,\"sin trabajo\")\n",
    "alimentarBase(2,2000000,\"empleo privado\")\n",
    "alimentarBase(2,2000000,\"empleo privado\")\n",
    "alimentarBase(2,2000000,\"empleo privado\")\n",
    "alimentarBase(2,2000000,\"empleo privado\")\n",
    "alimentarBase(1,0,\"sin trabajo\")"
   ]
  },
  {
   "cell_type": "code",
   "execution_count": 108,
   "metadata": {},
   "outputs": [
    {
     "name": "stdout",
     "output_type": "stream",
     "text": [
      "trabajo recurrente: empleo privado\n",
      "No de personas Estrat.1 : 3\n",
      "No de personas Estrat.2: 5\n",
      "No de personas Estrat.3: 1\n",
      "No de personas Estrat.4: 1\n",
      "No de personas Estrat.5: 1\n",
      "No de personas Estrat.6: 1\n",
      "cantidad de personas encuestadas: 12\n"
     ]
    },
    {
     "data": {
      "text/plain": [
       "'promedio salarios: 4483333.333333333'"
      ]
     },
     "execution_count": 108,
     "metadata": {},
     "output_type": "execute_result"
    }
   ],
   "source": [
    "# aqui tenemos el sondeo que se queria hacer\n",
    "sondeoBaseDeDatos(base_de_datos)"
   ]
  },
  {
   "cell_type": "code",
   "execution_count": null,
   "metadata": {},
   "outputs": [],
   "source": []
  },
  {
   "cell_type": "code",
   "execution_count": null,
   "metadata": {},
   "outputs": [],
   "source": []
  }
 ],
 "metadata": {
  "colab": {
   "include_colab_link": true,
   "name": "Untitled0.ipynb",
   "provenance": []
  },
  "kernelspec": {
   "display_name": "Python 3",
   "language": "python",
   "name": "python3"
  },
  "language_info": {
   "codemirror_mode": {
    "name": "ipython",
    "version": 3
   },
   "file_extension": ".py",
   "mimetype": "text/x-python",
   "name": "python",
   "nbconvert_exporter": "python",
   "pygments_lexer": "ipython3",
   "version": "3.7.3"
  }
 },
 "nbformat": 4,
 "nbformat_minor": 1
}
